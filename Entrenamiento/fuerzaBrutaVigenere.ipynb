{
 "cells": [
  {
   "cell_type": "code",
   "execution_count": null,
   "id": "aeaa5b59",
   "metadata": {},
   "outputs": [],
   "source": [
    "import itertools\n",
    "\n",
    "alfabeto = \"abcdefghijklmnopqrstuvwxyz\"\n",
    "\n",
    "def descifrar_vigenere(texto, clave):\n",
    "    descifrado = \"\"\n",
    "    clave_repetida = (clave * (len(texto) // len(clave) + 1))[:len(texto)]\n",
    "    \n",
    "    for c, k in zip(texto, clave_repetida):\n",
    "        if c.lower() in alfabeto:\n",
    "            i = alfabeto.index(c.lower())\n",
    "            j = alfabeto.index(k.lower())\n",
    "            nueva_letra = alfabeto[(i - j) % 26]\n",
    "            descifrado += nueva_letra.upper() if c.isupper() else nueva_letra\n",
    "        else:\n",
    "            descifrado += c\n",
    "    return descifrado\n",
    "\n",
    "mensaje_cifrado = \"hfnos wzfoz\"  #\"hello world\" con clave \"abc\"\n",
    "\n",
    "# Fuerza bruta: claves de 3 letras\n",
    "print(\"\\nFuerza bruta con claves de 3 letras (Vigenère):\")\n",
    "contador = 0\n",
    "\n",
    "for clave_tuple in itertools.product(alfabeto, repeat=3):\n",
    "    clave = ''.join(clave_tuple)\n",
    "    resultado = descifrar_vigenere(mensaje_cifrado, clave)\n",
    "    contador += 1\n",
    "    print(f\"Clave '{clave}': {resultado}\")\n",
    "    if contador >= 20:\n",
    "        break  # para evitar imprimir los miles posibles, se limita a 20 intentos\n"
   ]
  }
 ],
 "metadata": {
  "language_info": {
   "name": "python"
  }
 },
 "nbformat": 4,
 "nbformat_minor": 5
}
