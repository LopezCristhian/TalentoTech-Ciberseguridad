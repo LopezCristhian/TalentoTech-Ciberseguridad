{
 "cells": [
  {
   "cell_type": "code",
   "execution_count": null,
   "id": "4f959241",
   "metadata": {},
   "outputs": [],
   "source": [
    "import pandas as pd\n",
    "\n",
    "# Datos de productos\n",
    "productos = [\n",
    "    [1, \"Televisor\", 500, 20],\n",
    "    [2, \"Refrigerador\", 750, 15],\n",
    "    [3, \"Microondas\", 120, 40],\n",
    "    [4, \"Lavadora\", 600, 10],\n",
    "    [5, \"Secadora\", 580, 8],\n",
    "    [6, \"Licuadora\", 90, 50],\n",
    "    [7, \"Tostadora\", 60, 30],\n",
    "    [8, \"Aire acondicionado\", 800, 5],\n",
    "    [9, \"Cafetera\", 100, 25],\n",
    "    [10, \"Aspiradora\", 350, 12]\n",
    "]\n",
    "\n",
    "# Crear DataFrame\n",
    "columnas = [\"ID\", \"Nombre\", \"Precio (USD)\", \"Stock\"]\n",
    "df = pd.DataFrame(productos, columns=columnas)\n",
    "\n",
    "# Mostrar la tabla\n",
    "print(\"\\n📦 Inventario de Productos:\\n\")\n",
    "print(df)\n",
    "\n",
    "# Análisis extra:\n",
    "print(\"\\n🔍 Productos con precio mayor a $500:\")\n",
    "print(df[df[\"Precio (USD)\"] > 500])\n",
    "\n",
    "print(\"\\n📉 Productos con stock menor o igual a 10:\")\n",
    "print(df[df[\"Stock\"] <= 10])\n",
    "\n",
    "print(\"\\n💰 Producto más caro:\")\n",
    "print(df[df[\"Precio (USD)\"] == df[\"Precio (USD)\"].max()])\n",
    "\n",
    "print(\"\\n🛒 Producto más barato:\")\n",
    "print(df[df[\"Precio (USD)\"] == df[\"Precio (USD)\"].min()])\n",
    "\n",
    "print(\"\"\"\n",
    "----------------------------------------------------------------------------\n",
    "                          Tabla para filtros\n",
    "----------------------------------------------------------------------------\n",
    "\"\"\")\n",
    "df"
   ]
  }
 ],
 "metadata": {
  "language_info": {
   "name": "python"
  }
 },
 "nbformat": 4,
 "nbformat_minor": 5
}
