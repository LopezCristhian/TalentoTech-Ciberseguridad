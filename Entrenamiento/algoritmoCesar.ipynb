{
 "cells": [
  {
   "cell_type": "code",
   "execution_count": null,
   "id": "2269ad04",
   "metadata": {},
   "outputs": [],
   "source": [
    "import pandas as pd\n",
    "\n",
    "alfabeto = \"abcdefghijklmnñopqrstuvwxyz\"\n",
    "\n",
    "# Función de cifrado César\n",
    "def cifrar_cesar_es(texto, desplazamiento):\n",
    "    resultado = \"\"\n",
    "    for caracter in texto:\n",
    "        if caracter.lower() in alfabeto:\n",
    "            es_mayus = caracter.isupper()\n",
    "            indice = alfabeto.index(caracter.lower())\n",
    "            nuevo_indice = (indice + desplazamiento) % len(alfabeto)\n",
    "            nuevo_caracter = alfabeto[nuevo_indice]\n",
    "            resultado += nuevo_caracter.upper() if es_mayus else nuevo_caracter\n",
    "        else:\n",
    "            resultado += caracter\n",
    "    return resultado\n",
    "\n",
    "# Función de descifrado (usa desplazamiento negativo)\n",
    "def descifrar_cesar_es(texto_cifrado, desplazamiento):\n",
    "    return cifrar_cesar_es(texto_cifrado, -desplazamiento)\n",
    "\n",
    "# DataFrame con mensajes y claves\n",
    "datos = {\n",
    "    \"msj_original\": [\n",
    "        \"hola mundo\", \"python\", \"la ñ es importante\", \"esto es una prueba\",\n",
    "        \"mañana es sabado\", \"el cielo es azul\", \"nos vemos pronto\", \"la clave secreta\",\n",
    "        \"inteligencia artificial\", \"mensaje cifrado\"\n",
    "    ],\n",
    "    \"Clave\": [3, 5, 2, 7, 1, 4, 6, 2, 9, 3]\n",
    "}\n",
    "\n",
    "df = pd.DataFrame(datos)\n",
    "\n",
    "# Aplicar cifrado y descifrado para la tabla\n",
    "df[\"msj_cifrado\"] = df.apply(lambda row: cifrar_cesar_es(row[\"msj_original\"], row[\"Clave\"]), axis=1)\n",
    "df[\"msj_descifrado\"] = df.apply(lambda row: descifrar_cesar_es(row[\"msj_cifrado\"], row[\"Clave\"]), axis=1)\n",
    "\n",
    "#print(df)\n",
    "\n",
    "df"
   ]
  }
 ],
 "metadata": {
  "language_info": {
   "name": "python"
  }
 },
 "nbformat": 4,
 "nbformat_minor": 5
}
