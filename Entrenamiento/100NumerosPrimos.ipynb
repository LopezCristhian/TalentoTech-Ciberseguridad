{
 "cells": [
  {
   "cell_type": "code",
   "execution_count": null,
   "id": "3f967f51",
   "metadata": {},
   "outputs": [],
   "source": [
    "def es_primo(n):\n",
    "    if n < 2:\n",
    "        return False\n",
    "    for i in range(2, int(n**0.5) + 1):\n",
    "        if n % i == 0:\n",
    "            return False\n",
    "    return True\n",
    "\n",
    "# Lista para guardar los 100 primeros primos\n",
    "primos = []\n",
    "numero = 2\n",
    "\n",
    "while len(primos) < 100:\n",
    "    if es_primo(numero):\n",
    "        primos.append(numero)\n",
    "    numero += 1\n",
    "\n",
    "print(\"Primeros 100 números primos:\")\n",
    "print(primos)\n",
    "\n",
    "# Ejercicio anterior con funciones lambda\n",
    "print(\"\\nPrimeros 100 números primos con funciones lambda:\")\n",
    "print(list(filter(lambda x: es_primo(x), range(2, 1000))))"
   ]
  }
 ],
 "metadata": {
  "kernelspec": {
   "display_name": "Python 3",
   "language": "python",
   "name": "python3"
  },
  "language_info": {
   "name": "python",
   "version": "3.13.5"
  }
 },
 "nbformat": 4,
 "nbformat_minor": 5
}
