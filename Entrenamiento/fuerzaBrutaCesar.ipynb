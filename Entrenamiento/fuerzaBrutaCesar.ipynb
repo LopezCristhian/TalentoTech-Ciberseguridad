{
 "cells": [
  {
   "cell_type": "code",
   "execution_count": null,
   "id": "a4860227",
   "metadata": {},
   "outputs": [],
   "source": [
    "def descifrar_cesar(texto, desplazamiento):\n",
    "    alfabeto = \"abcdefghijklmnopqrstuvwxyz\"\n",
    "    resultado = \"\"\n",
    "\n",
    "    for caracter in texto:\n",
    "        if caracter.lower() in alfabeto:\n",
    "            mayus = caracter.isupper()\n",
    "            i = alfabeto.index(caracter.lower())\n",
    "            nuevo_i = (i - desplazamiento) % len(alfabeto)\n",
    "            nuevo_c = alfabeto[nuevo_i]\n",
    "            resultado += nuevo_c.upper() if mayus else nuevo_c\n",
    "        else:\n",
    "            resultado += caracter\n",
    "    return resultado\n",
    "\n",
    "mensaje_cifrado = \"khoor zruog\"  # ejemplo de \"hello world\" cifrado con desplazamiento 3\n",
    "\n",
    "print(\"Intentando todas las claves (fuerza bruta César):\")\n",
    "for clave in range(1, 27):\n",
    "    posible = descifrar_cesar(mensaje_cifrado, clave)\n",
    "    print(f\"Clave {clave:2}: {posible}\")\n"
   ]
  }
 ],
 "metadata": {
  "language_info": {
   "name": "python"
  }
 },
 "nbformat": 4,
 "nbformat_minor": 5
}
