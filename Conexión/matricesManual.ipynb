{
 "cells": [
  {
   "cell_type": "code",
   "execution_count": null,
   "id": "e2194a0f",
   "metadata": {},
   "outputs": [],
   "source": [
    "def multiplicarMatrices(A, B):\n",
    "    # Verificar si son compatibles\n",
    "    if len(A[0]) != len(B):\n",
    "        raise ValueError(\"No se pueden multiplicar: dimensiones incompatibles\")\n",
    "\n",
    "    # Crear matriz resultado con ceros\n",
    "    resultado = [[0 for _ in range(len(B[0]))] for _ in range(len(A))]\n",
    "\n",
    "    # Multiplicación \n",
    "    for i in range(len(A)):            # Filas de A\n",
    "        for j in range(len(B[0])):     # Columnas de B\n",
    "            for k in range(len(B)):    # Filas de B (o columnas de A)\n",
    "                resultado[i][j] += A[i][k] * B[k][j]\n",
    "    \n",
    "    return resultado\n",
    "\n",
    "# Matrices de ejemplo\n",
    "A = [\n",
    "    [1, 2, 3],\n",
    "    [4, 5, 6]\n",
    "]\n",
    "\n",
    "B = [\n",
    "    [7, 8],\n",
    "    [9, 10],\n",
    "    [11, 12]\n",
    "]\n",
    "\n",
    "resultado = multiplicarMatrices(A, B)\n",
    "\n",
    "# Se imprime el resultado\n",
    "for fila in resultado:\n",
    "    print(fila)"
   ]
  }
 ],
 "metadata": {
  "language_info": {
   "name": "python"
  }
 },
 "nbformat": 4,
 "nbformat_minor": 5
}
