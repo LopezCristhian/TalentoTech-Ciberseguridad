{
 "cells": [
  {
   "cell_type": "code",
   "execution_count": null,
   "id": "7a0dadbe",
   "metadata": {},
   "outputs": [],
   "source": [
    "import matplotlib.pyplot as plt\n",
    "import networkx as nx\n",
    "\n",
    "def dibujarRed():\n",
    "    # Crear un grafo dirigido\n",
    "    G = nx.DiGraph()\n",
    "\n",
    "    # Conexiones \n",
    "    conexiones = [\n",
    "        (\"v1\", \"v2\", \"a1\"),\n",
    "        (\"v2\", \"v1\", \"a2\"),\n",
    "        (\"v2\", \"v3\", \"a3\"),\n",
    "        (\"v3\", \"v4\", \"a4\"),\n",
    "        (\"v4\", \"v1\", \"a5\")\n",
    "    ]\n",
    "\n",
    "    # Agregar aristas con etiquetas\n",
    "    for origen, destino, etiqueta in conexiones:\n",
    "        G.add_edge(origen, destino, label=etiqueta)\n",
    "\n",
    "    # Generar posiciones automáticas para los nodos\n",
    "    pos = nx.spring_layout(G, seed=42)\n",
    "\n",
    "    # Dibujar nodos\n",
    "    nx.draw(G, pos, with_labels=True, node_color='skyblue', node_size=2000,\n",
    "            font_size=12, font_weight='bold', edge_color='gray', arrows=True)\n",
    "\n",
    "    # Dibujar etiquetas de las conexiones\n",
    "    etiquetas = nx.get_edge_attributes(G, 'label')\n",
    "    nx.draw_networkx_edge_labels(G, pos, edge_labels=etiquetas, font_color='red')\n",
    "\n",
    "    plt.title(\"Red de Conexiones\")\n",
    "    plt.axis('off')\n",
    "    plt.tight_layout()\n",
    "    plt.show()\n",
    "\n",
    "dibujarRed()"
   ]
  }
 ],
 "metadata": {
  "language_info": {
   "name": "python"
  }
 },
 "nbformat": 4,
 "nbformat_minor": 5
}
