{
 "cells": [
  {
   "cell_type": "code",
   "execution_count": null,
   "id": "d17f604b",
   "metadata": {},
   "outputs": [],
   "source": [
    "from cryptography.hazmat.primitives.ciphers import Cipher, algorithms, modes\n",
    "from cryptography.hazmat.primitives import padding\n",
    "from cryptography.hazmat.backends import default_backend\n",
    "import os\n",
    "\n",
    "def generarClaveSimetrica():\n",
    "    return os.urandom(32)  # 256 bits para AES-256\n",
    "\n",
    "def cifrarMensaje(mensaje, clave):\n",
    "    iv = os.urandom(16)  # Vector de inicialización para AES\n",
    "    backend = default_backend()\n",
    "    cipher = Cipher(algorithms.AES(clave), modes.CBC(iv), backend=backend)\n",
    "    cifrador = cipher.encryptor()\n",
    "\n",
    "    # Rellenar el mensaje para que sea múltiplo de 16 bytes\n",
    "    rellenador = padding.PKCS7(128).padder()\n",
    "    mensajeRellenado = rellenador.update(mensaje.encode()) + rellenador.finalize()\n",
    "\n",
    "    mensajeCifrado = cifrador.update(mensajeRellenado) + cifrador.finalize()\n",
    "    return iv + mensajeCifrado  # devolvemos el IV + mensaje\n",
    "\n",
    "def descifrarMensaje(mensajeCifrado, clave):\n",
    "    iv = mensajeCifrado[:16]\n",
    "    datos = mensajeCifrado[16:]\n",
    "\n",
    "    backend = default_backend()\n",
    "    cipher = Cipher(algorithms.AES(clave), modes.CBC(iv), backend=backend)\n",
    "    descifrador = cipher.decryptor()\n",
    "\n",
    "    mensajeRellenado = descifrador.update(datos) + descifrador.finalize()\n",
    "\n",
    "    # Quitar el relleno\n",
    "    despadded = padding.PKCS7(128).unpadder()\n",
    "    mensajeOriginal = despadded.update(mensajeRellenado) + despadded.finalize()\n",
    "\n",
    "    return mensajeOriginal.decode()\n",
    "\n",
    "# Uso del sistema\n",
    "clave = generarClaveSimetrica()\n",
    "mensaje = \"Protección con cifrado simétrico AES\"\n",
    "\n",
    "mensajeCifrado = cifrarMensaje(mensaje, clave)\n",
    "mensajeDescifrado = descifrarMensaje(mensajeCifrado, clave)\n",
    "\n",
    "print(\"Mensaje original:\", mensaje)\n",
    "print(\"Mensaje cifrado (en bytes):\", mensajeCifrado)\n",
    "print(\"Mensaje descifrado:\", mensajeDescifrado)\n"
   ]
  }
 ],
 "metadata": {
  "language_info": {
   "name": "python"
  }
 },
 "nbformat": 4,
 "nbformat_minor": 5
}
