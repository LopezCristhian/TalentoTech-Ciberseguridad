{
 "cells": [
  {
   "cell_type": "code",
   "execution_count": null,
   "id": "5127dc6f",
   "metadata": {},
   "outputs": [],
   "source": [
    "from cryptography.hazmat.primitives.asymmetric import rsa, padding\n",
    "from cryptography.hazmat.primitives import hashes, serialization\n",
    "\n",
    "def generarClaves():\n",
    "    clavePrivada = rsa.generate_private_key(\n",
    "        public_exponent=65537,\n",
    "        key_size=2048\n",
    "    )\n",
    "    clavePublica = clavePrivada.public_key()\n",
    "    return clavePrivada, clavePublica\n",
    "\n",
    "def cifrarMensaje(mensaje, clavePublica):\n",
    "    mensajeCifrado = clavePublica.encrypt(\n",
    "        mensaje.encode(),\n",
    "        padding.OAEP(\n",
    "            mgf=padding.MGF1(algorithm=hashes.SHA256()),\n",
    "            algorithm=hashes.SHA256(),\n",
    "            label=None\n",
    "        )\n",
    "    )\n",
    "    return mensajeCifrado\n",
    "\n",
    "def descifrarMensaje(mensajeCifrado, clavePrivada):\n",
    "    mensajeOriginal = clavePrivada.decrypt(\n",
    "        mensajeCifrado,\n",
    "        padding.OAEP(\n",
    "            mgf=padding.MGF1(algorithm=hashes.SHA256()),\n",
    "            algorithm=hashes.SHA256(),\n",
    "            label=None\n",
    "        )\n",
    "    )\n",
    "    return mensajeOriginal.decode()\n",
    "\n",
    "# Generar claves\n",
    "clavePrivada, clavePublica = generarClaves()\n",
    "\n",
    "# Mensaje a cifrar\n",
    "mensaje = \"La ciberseguridad es esencial\"\n",
    "\n",
    "# Cifrar y descifrar\n",
    "mensajeCifrado = cifrarMensaje(mensaje, clavePublica)\n",
    "mensajeDescifrado = descifrarMensaje(mensajeCifrado, clavePrivada)\n",
    "\n",
    "print(\"Mensaje original:\", mensaje)\n",
    "print(\"Mensaje cifrado:\", mensajeCifrado)\n",
    "print(\"Mensaje descifrado:\", mensajeDescifrado)\n"
   ]
  }
 ],
 "metadata": {
  "language_info": {
   "name": "python"
  }
 },
 "nbformat": 4,
 "nbformat_minor": 5
}
